{
 "cells": [
  {
   "cell_type": "code",
   "execution_count": 1,
   "id": "8ae2fdf6-0cbf-4229-bd09-0370022a1cfe",
   "metadata": {},
   "outputs": [],
   "source": [
    "from autograd import Value"
   ]
  },
  {
   "cell_type": "code",
   "execution_count": 6,
   "id": "aaa606b6-6c31-46da-b142-a94a054b98da",
   "metadata": {},
   "outputs": [
    {
     "name": "stdout",
     "output_type": "stream",
     "text": [
      "0.5\n",
      "2.5\n"
     ]
    }
   ],
   "source": [
    "a = Value(0.5)\n",
    "b = Value(2.5)\n",
    "\n",
    "print(a._value)\n",
    "print(b._value)"
   ]
  },
  {
   "cell_type": "code",
   "execution_count": 7,
   "id": "34b8d4ff-f2aa-4485-be48-a72a13ffd939",
   "metadata": {},
   "outputs": [
    {
     "name": "stdout",
     "output_type": "stream",
     "text": [
      "Node value: 3.0 \n",
      "Node gradient: 1 \n",
      "\n",
      "Node value: 15.0 \n",
      "Node gradient: 0 \n",
      "\n"
     ]
    }
   ],
   "source": [
    "# Add two Values\n",
    "\n",
    "a_plus_b = a + b\n",
    "a_plus_b._gradient = 1\n",
    "print(a_plus_b)\n",
    "\n",
    "# Multiply\n",
    "c = Value(5)\n",
    "inner = a_plus_b * c\n",
    "print(inner)"
   ]
  },
  {
   "cell_type": "code",
   "execution_count": null,
   "id": "0e1ac7fd-2986-4e81-8f0f-a4d31c134c65",
   "metadata": {},
   "outputs": [],
   "source": []
  },
  {
   "cell_type": "code",
   "execution_count": null,
   "id": "2f318f62-89a3-4526-ab7f-9403d04f5f5f",
   "metadata": {},
   "outputs": [],
   "source": []
  }
 ],
 "metadata": {
  "kernelspec": {
   "display_name": "Python 3 (ipykernel)",
   "language": "python",
   "name": "python3"
  },
  "language_info": {
   "codemirror_mode": {
    "name": "ipython",
    "version": 3
   },
   "file_extension": ".py",
   "mimetype": "text/x-python",
   "name": "python",
   "nbconvert_exporter": "python",
   "pygments_lexer": "ipython3",
   "version": "3.10.12"
  }
 },
 "nbformat": 4,
 "nbformat_minor": 5
}
