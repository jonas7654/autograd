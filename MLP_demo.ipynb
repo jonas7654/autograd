{
 "cells": [
  {
   "cell_type": "code",
   "execution_count": 7,
   "metadata": {},
   "outputs": [],
   "source": [
    "from graphviz import Digraph\n",
    "from autograd import Value\n",
    "from MLP import Neuron, Layer, MLP\n",
    "\n",
    "\"\"\"\n",
    "This is mainly copied from Karpathy's micrograd!\n",
    "\"\"\"\n",
    "# Function to trace the computational graph\n",
    "def trace(root):\n",
    "    nodes, edges = set(), set()\n",
    "    \n",
    "    def build(v):\n",
    "        if v is not None and v not in nodes:\n",
    "            nodes.add(v)\n",
    "            if v.leftChild is not None:\n",
    "                edges.add((v.leftChild, v))\n",
    "                build(v.leftChild)\n",
    "            if v.rightChild is not None:\n",
    "                edges.add((v.rightChild, v))\n",
    "                build(v.rightChild)\n",
    "    \n",
    "    build(root)\n",
    "    return nodes, edges\n",
    "\n",
    "# Function to draw the computational graph\n",
    "def draw_dot(root, format='svg', rankdir='LR'):\n",
    "    \"\"\"\n",
    "    format: png | svg | ...\n",
    "    rankdir: TB (top to bottom graph) | LR (left to right)\n",
    "    \"\"\"\n",
    "    assert rankdir in ['LR', 'TB']\n",
    "    nodes, edges = trace(root)\n",
    "    dot = Digraph(format=format, graph_attr={'rankdir': rankdir})\n",
    "    \n",
    "    # Create nodes in the dot graph\n",
    "    for n in nodes:\n",
    "        # Create the main node for Value\n",
    "        dot.node(name=str(id(n)), label=\"{ data %.4f | grad %.4f }\" % (n.value, n.gradient), shape='record')\n",
    "        # If this node is the result of an operation, create an op node as well.\n",
    "        if n.operator is not None:\n",
    "            op_node = str(id(n)) + n.operator\n",
    "            dot.node(name=op_node, label=n.operator)\n",
    "            dot.edge(op_node, str(id(n)))\n",
    "    \n",
    "    # Create edges between nodes\n",
    "    for n1, n2 in edges:\n",
    "        if n2.operator is not None:\n",
    "            dot.edge(str(id(n1)), str(id(n2)) + n2.operator)\n",
    "        else:\n",
    "            dot.edge(str(id(n1)), str(id(n2)))\n",
    "    \n",
    "    return dot"
   ]
  },
  {
   "cell_type": "code",
   "execution_count": 8,
   "metadata": {},
   "outputs": [
    {
     "name": "stdout",
     "output_type": "stream",
     "text": [
      "Total Layers: 3\n",
      "Epoch: 0 \n",
      " Loss: Value(0.2980495458631124)\n"
     ]
    }
   ],
   "source": [
    "train_data = [1, 1, 1, 1, 1]\n",
    "Neural_Network = MLP(5, [10, 5, 5])\n",
    "print(Neural_Network)\n",
    "\n",
    "output = Neural_Network.forward(train_data)\n",
    "Neural_Network.train(train_data, 1, lr = 1)"
   ]
  },
  {
   "cell_type": "code",
   "execution_count": null,
   "metadata": {},
   "outputs": [
    {
     "data": {
      "text/plain": [
       "'mlp_graph.svg'"
      ]
     },
     "execution_count": 9,
     "metadata": {},
     "output_type": "execute_result"
    }
   ],
   "source": [
    "\n",
    "# Visualize the computational graph\n",
    "dot = draw_dot(output[0])  # Visualize the first output neuron\n",
    "dot.render('mlp_graph', format='pdf')  # Save the graph as an SVG file\n",
    "\n"
   ]
  }
 ],
 "metadata": {
  "kernelspec": {
   "display_name": "Python 3",
   "language": "python",
   "name": "python3"
  },
  "language_info": {
   "codemirror_mode": {
    "name": "ipython",
    "version": 3
   },
   "file_extension": ".py",
   "mimetype": "text/x-python",
   "name": "python",
   "nbconvert_exporter": "python",
   "pygments_lexer": "ipython3",
   "version": "3.10.12"
  }
 },
 "nbformat": 4,
 "nbformat_minor": 2
}
